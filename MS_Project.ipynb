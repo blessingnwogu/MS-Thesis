{
  "metadata": {
    "kernelspec": {
      "language": "python",
      "display_name": "Python 3",
      "name": "python3"
    },
    "language_info": {
      "name": "python",
      "version": "3.7.6",
      "mimetype": "text/x-python",
      "codemirror_mode": {
        "name": "ipython",
        "version": 3
      },
      "pygments_lexer": "ipython3",
      "nbconvert_exporter": "python",
      "file_extension": ".py"
    },
    "kaggle": {
      "accelerator": "none",
      "dataSources": [
        {
          "sourceId": 1776895,
          "sourceType": "datasetVersion",
          "datasetId": 1056391
        },
        {
          "sourceId": 4216103,
          "sourceType": "datasetVersion",
          "datasetId": 2485332
        }
      ],
      "dockerImageVersionId": 30043,
      "isInternetEnabled": true,
      "language": "python",
      "sourceType": "notebook",
      "isGpuEnabled": false
    },
    "colab": {
      "provenance": [],
      "collapsed_sections": [
        "Q6hKNfAlEzUS",
        "LQOFO5MSEzUf",
        "MR2lD88fquzY",
        "YJjld_WSEzUt",
        "XRowCSIlBqzn",
        "JeJSe1hIEzU5"
      ],
      "include_colab_link": true
    }
  },
  "nbformat_minor": 0,
  "nbformat": 4,
  "cells": [
    {
      "cell_type": "markdown",
      "metadata": {
        "id": "view-in-github",
        "colab_type": "text"
      },
      "source": [
        "<a href=\"https://colab.research.google.com/github/blessingnwogu/MS-Thesis/blob/main/MS_Project.ipynb\" target=\"_parent\"><img src=\"https://colab.research.google.com/assets/colab-badge.svg\" alt=\"Open In Colab\"/></a>"
      ]
    },
    {
      "cell_type": "markdown",
      "source": [
        "Sentiment Analysis"
      ],
      "metadata": {
        "id": "QbM7x-5UEzUR"
      }
    },
    {
      "cell_type": "markdown",
      "source": [
        "### Import Libraries and Set the intial variables"
      ],
      "metadata": {
        "id": "Q6hKNfAlEzUS"
      }
    },
    {
      "cell_type": "code",
      "source": [
        "!pip install transformers"
      ],
      "metadata": {
        "id": "vezpsX-7GphM",
        "outputId": "a7164402-8a7b-4e4c-e118-ce6498ba4f2e",
        "execution": {
          "iopub.status.busy": "2024-10-29T07:57:21.399463Z",
          "iopub.execute_input": "2024-10-29T07:57:21.399825Z",
          "iopub.status.idle": "2024-10-29T07:57:31.468591Z",
          "shell.execute_reply.started": "2024-10-29T07:57:21.399792Z",
          "shell.execute_reply": "2024-10-29T07:57:31.467465Z"
        },
        "trusted": true
      },
      "outputs": [
        {
          "name": "stdout",
          "text": "Requirement already satisfied: transformers in /opt/conda/lib/python3.7/site-packages (3.5.1)\nRequirement already satisfied: sacremoses in /opt/conda/lib/python3.7/site-packages (from transformers) (0.0.43)\nRequirement already satisfied: protobuf in /opt/conda/lib/python3.7/site-packages (from transformers) (3.14.0)\nRequirement already satisfied: requests in /opt/conda/lib/python3.7/site-packages (from transformers) (2.23.0)\nRequirement already satisfied: tokenizers==0.9.3 in /opt/conda/lib/python3.7/site-packages (from transformers) (0.9.3)\nRequirement already satisfied: regex!=2019.12.17 in /opt/conda/lib/python3.7/site-packages (from transformers) (2020.4.4)\nRequirement already satisfied: packaging in /opt/conda/lib/python3.7/site-packages (from transformers) (20.1)\nRequirement already satisfied: numpy in /opt/conda/lib/python3.7/site-packages (from transformers) (1.18.5)\nRequirement already satisfied: tqdm>=4.27 in /opt/conda/lib/python3.7/site-packages (from transformers) (4.45.0)\nRequirement already satisfied: sentencepiece==0.1.91 in /opt/conda/lib/python3.7/site-packages (from transformers) (0.1.91)\nRequirement already satisfied: filelock in /opt/conda/lib/python3.7/site-packages (from transformers) (3.0.10)\nRequirement already satisfied: pyparsing>=2.0.2 in /opt/conda/lib/python3.7/site-packages (from packaging->transformers) (2.4.7)\nRequirement already satisfied: six in /opt/conda/lib/python3.7/site-packages (from packaging->transformers) (1.14.0)\nRequirement already satisfied: six in /opt/conda/lib/python3.7/site-packages (from packaging->transformers) (1.14.0)\nRequirement already satisfied: chardet<4,>=3.0.2 in /opt/conda/lib/python3.7/site-packages (from requests->transformers) (3.0.4)\nRequirement already satisfied: idna<3,>=2.5 in /opt/conda/lib/python3.7/site-packages (from requests->transformers) (2.9)\nRequirement already satisfied: certifi>=2017.4.17 in /opt/conda/lib/python3.7/site-packages (from requests->transformers) (2020.12.5)\nRequirement already satisfied: urllib3!=1.25.0,!=1.25.1,<1.26,>=1.21.1 in /opt/conda/lib/python3.7/site-packages (from requests->transformers) (1.25.9)\nRequirement already satisfied: joblib in /opt/conda/lib/python3.7/site-packages (from sacremoses->transformers) (0.14.1)\nRequirement already satisfied: six in /opt/conda/lib/python3.7/site-packages (from packaging->transformers) (1.14.0)\nRequirement already satisfied: click in /opt/conda/lib/python3.7/site-packages (from sacremoses->transformers) (7.1.1)\nRequirement already satisfied: regex!=2019.12.17 in /opt/conda/lib/python3.7/site-packages (from transformers) (2020.4.4)\nRequirement already satisfied: tqdm>=4.27 in /opt/conda/lib/python3.7/site-packages (from transformers) (4.45.0)\n\u001b[33mWARNING: You are using pip version 20.3.1; however, version 24.0 is available.\nYou should consider upgrading via the '/opt/conda/bin/python3.7 -m pip install --upgrade pip' command.\u001b[0m\n",
          "output_type": "stream"
        }
      ],
      "execution_count": null
    },
    {
      "cell_type": "code",
      "source": [
        "# Import necessary libraries\n",
        "import numpy as np\n",
        "import pandas as pd\n",
        "import seaborn as sns\n",
        "from pylab import rcParams\n",
        "import matplotlib.pyplot as plt\n",
        "from matplotlib import rc\n",
        "from sklearn.model_selection import train_test_split\n",
        "from sklearn.metrics import confusion_matrix, classification_report\n",
        "from collections import defaultdict\n",
        "from textwrap import wrap\n",
        "\n",
        "# Torch ML libraries\n",
        "import transformers\n",
        "from transformers import BertModel, BertTokenizer, AdamW, get_linear_schedule_with_warmup\n",
        "import torch\n",
        "from torch import nn, optim\n",
        "from torch.utils.data import Dataset, DataLoader\n"
      ],
      "metadata": {
        "id": "WtQykqrfEzUT",
        "execution": {
          "iopub.status.busy": "2024-10-31T22:24:36.824402Z",
          "iopub.status.idle": "2024-10-31T22:24:36.824918Z"
        },
        "trusted": true
      },
      "outputs": [],
      "execution_count": null
    },
    {
      "cell_type": "markdown",
      "source": [
        "### Load the data"
      ],
      "metadata": {
        "id": "LQOFO5MSEzUf"
      }
    },
    {
      "cell_type": "code",
      "source": [
        "df = pd.read_csv('drug_review_train.csv')\n"
      ],
      "metadata": {
        "id": "g6b5ajqzEzUg",
        "execution": {
          "iopub.status.busy": "2024-10-31T22:26:58.985843Z",
          "iopub.execute_input": "2024-10-31T22:26:58.986407Z",
          "iopub.status.idle": "2024-10-31T22:26:59.857255Z",
          "shell.execute_reply.started": "2024-10-31T22:26:58.986355Z",
          "shell.execute_reply": "2024-10-31T22:26:59.855612Z"
        },
        "trusted": true
      },
      "outputs": [],
      "execution_count": null
    },
    {
      "cell_type": "markdown",
      "source": [
        "## EDA"
      ],
      "metadata": {
        "id": "MR2lD88fquzY"
      }
    },
    {
      "cell_type": "code",
      "source": [
        "df.head() #\n"
      ],
      "metadata": {
        "id": "eQ5Uwg8xEzUk",
        "outputId": "2b23324b-d208-462f-d011-95c2f7847390",
        "execution": {
          "iopub.status.busy": "2024-10-31T23:15:57.134587Z",
          "iopub.execute_input": "2024-10-31T23:15:57.135035Z",
          "iopub.status.idle": "2024-10-31T23:15:57.159034Z",
          "shell.execute_reply.started": "2024-10-31T23:15:57.134999Z",
          "shell.execute_reply": "2024-10-31T23:15:57.157640Z"
        },
        "trusted": true
      },
      "outputs": [
        {
          "execution_count": 17,
          "output_type": "execute_result",
          "data": {
            "text/plain": "        Unnamed: 0  patient_id                            drugName  \\\n88136         8136      104770  Ethinyl estradiol / levonorgestrel   \n100915         915       89564                              Celexa   \n61175         1175      116281                          Adalimumab   \n15209         5209      119319                        Testosterone   \n100666         666       29069                          Topiramate   \n\n                 condition                                             review  \\\n88136        birth control  \"i've been on aviane for a little over a year....   \n100915          depression  \"i was diagnosed with obsessive compulsive dis...   \n61175   ulcerative colitis  \"i was put on humira on june 10, 2015 for seve...   \n15209   hypogonadism, male  \"i tried andro-gel for about 6-8 months. i did...   \n100666             obesity  \"i'm calling this the 'closer to perfection dr...   \n\n        rating                date  usefulCount  review_length  class_2ways  \\\n88136      9.0    October 13, 2010            0             87            1   \n100915     9.0    January 23, 2012           25            123            1   \n61175      1.0  September 17, 2015           28            136            0   \n15209      4.0   December 19, 2015            3             74            0   \n100666    10.0      April 20, 2017           45            140            1   \n\n                                               input_text  \n88136   \"i've been on aviane for a little over a year....  \n100915  \"i was diagnosed with obsessive compulsive dis...  \n61175   \"i was put on humira on june 10, 2015 for seve...  \n15209   \"i tried andro-gel for about 6-8 months. i did...  \n100666  \"i'm calling this the 'closer to perfection dr...  ",
            "text/html": "<div>\n<style scoped>\n    .dataframe tbody tr th:only-of-type {\n        vertical-align: middle;\n    }\n\n    .dataframe tbody tr th {\n        vertical-align: top;\n    }\n\n    .dataframe thead th {\n        text-align: right;\n    }\n</style>\n<table border=\"1\" class=\"dataframe\">\n  <thead>\n    <tr style=\"text-align: right;\">\n      <th></th>\n      <th>Unnamed: 0</th>\n      <th>patient_id</th>\n      <th>drugName</th>\n      <th>condition</th>\n      <th>review</th>\n      <th>rating</th>\n      <th>date</th>\n      <th>usefulCount</th>\n      <th>review_length</th>\n      <th>class_2ways</th>\n      <th>input_text</th>\n    </tr>\n  </thead>\n  <tbody>\n    <tr>\n      <th>88136</th>\n      <td>8136</td>\n      <td>104770</td>\n      <td>Ethinyl estradiol / levonorgestrel</td>\n      <td>birth control</td>\n      <td>\"i've been on aviane for a little over a year....</td>\n      <td>9.0</td>\n      <td>October 13, 2010</td>\n      <td>0</td>\n      <td>87</td>\n      <td>1</td>\n      <td>\"i've been on aviane for a little over a year....</td>\n    </tr>\n    <tr>\n      <th>100915</th>\n      <td>915</td>\n      <td>89564</td>\n      <td>Celexa</td>\n      <td>depression</td>\n      <td>\"i was diagnosed with obsessive compulsive dis...</td>\n      <td>9.0</td>\n      <td>January 23, 2012</td>\n      <td>25</td>\n      <td>123</td>\n      <td>1</td>\n      <td>\"i was diagnosed with obsessive compulsive dis...</td>\n    </tr>\n    <tr>\n      <th>61175</th>\n      <td>1175</td>\n      <td>116281</td>\n      <td>Adalimumab</td>\n      <td>ulcerative colitis</td>\n      <td>\"i was put on humira on june 10, 2015 for seve...</td>\n      <td>1.0</td>\n      <td>September 17, 2015</td>\n      <td>28</td>\n      <td>136</td>\n      <td>0</td>\n      <td>\"i was put on humira on june 10, 2015 for seve...</td>\n    </tr>\n    <tr>\n      <th>15209</th>\n      <td>5209</td>\n      <td>119319</td>\n      <td>Testosterone</td>\n      <td>hypogonadism, male</td>\n      <td>\"i tried andro-gel for about 6-8 months. i did...</td>\n      <td>4.0</td>\n      <td>December 19, 2015</td>\n      <td>3</td>\n      <td>74</td>\n      <td>0</td>\n      <td>\"i tried andro-gel for about 6-8 months. i did...</td>\n    </tr>\n    <tr>\n      <th>100666</th>\n      <td>666</td>\n      <td>29069</td>\n      <td>Topiramate</td>\n      <td>obesity</td>\n      <td>\"i'm calling this the 'closer to perfection dr...</td>\n      <td>10.0</td>\n      <td>April 20, 2017</td>\n      <td>45</td>\n      <td>140</td>\n      <td>1</td>\n      <td>\"i'm calling this the 'closer to perfection dr...</td>\n    </tr>\n  </tbody>\n</table>\n</div>"
          },
          "metadata": {}
        }
      ],
      "execution_count": null
    },
    {
      "cell_type": "code",
      "source": [
        "print(df.shape) # print shape"
      ],
      "metadata": {
        "execution": {
          "iopub.status.busy": "2024-10-31T22:25:22.159796Z",
          "iopub.execute_input": "2024-10-31T22:25:22.160109Z",
          "iopub.status.idle": "2024-10-31T22:25:22.165811Z",
          "shell.execute_reply.started": "2024-10-31T22:25:22.160079Z",
          "shell.execute_reply": "2024-10-31T22:25:22.164745Z"
        },
        "trusted": true,
        "id": "LZEronCCmG8s",
        "outputId": "e4b8e1ab-394a-4c80-c663-1e3dc7f35b69"
      },
      "outputs": [
        {
          "name": "stdout",
          "text": "(110811, 9)\n",
          "output_type": "stream"
        }
      ],
      "execution_count": null
    },
    {
      "cell_type": "code",
      "source": [
        "df = df.sample(n=10000, random_state=42)\n",
        "df.shape"
      ],
      "metadata": {
        "execution": {
          "iopub.status.busy": "2024-10-31T22:27:13.723098Z",
          "iopub.execute_input": "2024-10-31T22:27:13.723585Z",
          "iopub.status.idle": "2024-10-31T22:27:13.753428Z",
          "shell.execute_reply.started": "2024-10-31T22:27:13.723542Z",
          "shell.execute_reply": "2024-10-31T22:27:13.752406Z"
        },
        "trusted": true,
        "id": "Mi8PWrTimG8v",
        "outputId": "07393c1f-da40-418b-e9cd-b3ff92b304ac"
      },
      "outputs": [
        {
          "execution_count": 11,
          "output_type": "execute_result",
          "data": {
            "text/plain": "(10000, 9)"
          },
          "metadata": {}
        }
      ],
      "execution_count": null
    },
    {
      "cell_type": "code",
      "source": [
        "# Let's check for missing values\n",
        "df.isnull().sum()"
      ],
      "metadata": {
        "id": "24xNLIJlEzUo",
        "outputId": "eae6af5f-068a-480e-acdd-3c78b3e8a81b",
        "execution": {
          "iopub.status.busy": "2024-10-17T18:35:40.607757Z",
          "iopub.execute_input": "2024-10-17T18:35:40.608146Z",
          "iopub.status.idle": "2024-10-17T18:35:40.622696Z",
          "shell.execute_reply.started": "2024-10-17T18:35:40.608111Z",
          "shell.execute_reply": "2024-10-17T18:35:40.621610Z"
        },
        "trusted": true
      },
      "outputs": [
        {
          "execution_count": 9,
          "output_type": "execute_result",
          "data": {
            "text/plain": "Unnamed: 0       0\npatient_id       0\ndrugName         0\ncondition        0\nreview           0\nrating           0\ndate             0\nusefulCount      0\nreview_length    0\ndtype: int64"
          },
          "metadata": {}
        }
      ],
      "execution_count": null
    },
    {
      "cell_type": "code",
      "source": [
        "# Let's have a look at the class balance.\n",
        "sns.countplot(df.rating)\n",
        "plt.xlabel('rating');"
      ],
      "metadata": {
        "id": "lWJJv8q7EzUu",
        "outputId": "0a5797e5-60e6-4f35-d37a-50014f8bdb98",
        "execution": {
          "iopub.status.busy": "2024-10-23T02:13:10.924570Z",
          "iopub.execute_input": "2024-10-23T02:13:10.925003Z",
          "iopub.status.idle": "2024-10-23T02:13:11.288865Z",
          "shell.execute_reply.started": "2024-10-23T02:13:10.924967Z",
          "shell.execute_reply": "2024-10-23T02:13:11.287631Z"
        },
        "trusted": true
      },
      "outputs": [
        {
          "output_type": "display_data",
          "data": {
            "text/plain": "<Figure size 864x576 with 1 Axes>",
            "image/png": "[encoded data removed]"
          },
          "metadata": {
            "image/png": {
              "width": 745,
              "height": 489
            }
          }
        }
      ],
      "execution_count": null
    },
    {
      "cell_type": "markdown",
      "source": [
        "## Prepeprocessing\n",
        "class_2ways will be just positive and negative, where positive is 6+ and negative is 1 through 5\n",
        "\n",
        "class_3ways will be psitive neutral and negative, wher positive is 7+, neutral is 4 through 6 and negative is 1 through 3"
      ],
      "metadata": {
        "id": "YJjld_WSEzUt"
      }
    },
    {
      "cell_type": "code",
      "source": [
        "df['class_2ways'] = np.where(df['rating'] >= 5, 'positive', 'negative')\n"
      ],
      "metadata": {
        "execution": {
          "iopub.status.busy": "2024-10-31T22:27:37.434453Z",
          "iopub.execute_input": "2024-10-31T22:27:37.434876Z",
          "iopub.status.idle": "2024-10-31T22:27:37.464892Z",
          "shell.execute_reply.started": "2024-10-31T22:27:37.434840Z",
          "shell.execute_reply": "2024-10-31T22:27:37.463754Z"
        },
        "trusted": true,
        "id": "0RQe5iAnmG8w"
      },
      "outputs": [],
      "execution_count": null
    },
    {
      "cell_type": "code",
      "source": [
        "df"
      ],
      "metadata": {
        "execution": {
          "iopub.status.busy": "2024-10-31T22:27:51.240885Z",
          "iopub.execute_input": "2024-10-31T22:27:51.241370Z",
          "iopub.status.idle": "2024-10-31T22:27:51.274799Z",
          "shell.execute_reply.started": "2024-10-31T22:27:51.241321Z",
          "shell.execute_reply": "2024-10-31T22:27:51.273731Z"
        },
        "trusted": true,
        "id": "vWY4dwEKmG8w",
        "outputId": "337ddc40-4521-4824-f8aa-b1fa4a14e8a1"
      },
      "outputs": [
        {
          "execution_count": 13,
          "output_type": "execute_result",
          "data": {
            "text/plain": "        Unnamed: 0  patient_id                            drugName  \\\n88136         8136      104770  Ethinyl estradiol / levonorgestrel   \n100915         915       89564                              Celexa   \n61175         1175      116281                          Adalimumab   \n15209         5209      119319                        Testosterone   \n100666         666       29069                          Topiramate   \n...            ...         ...                                 ...   \n16632         6632      209128          Mucinex D Maximum Strength   \n63457         3457      142761                      Levonorgestrel   \n22581         2581      201514                              Zoloft   \n30922          922      194457                        Atorvastatin   \n41539         1539      169324                      Diethylpropion   \n\n                         condition  \\\n88136                birth control   \n100915                  depression   \n61175           ulcerative colitis   \n15209           hypogonadism, male   \n100666                     obesity   \n...                            ...   \n16632   cough and nasal congestion   \n63457                birth control   \n22581                panic disorde   \n30922             high cholesterol   \n41539                      obesity   \n\n                                                   review  rating  \\\n88136   \"i've been on aviane for a little over a year....     9.0   \n100915  \"i was diagnosed with obsessive compulsive dis...     9.0   \n61175   \"i was put on humira on june 10, 2015 for seve...     1.0   \n15209   \"i tried andro-gel for about 6-8 months. i did...     4.0   \n100666  \"i'm calling this the 'closer to perfection dr...    10.0   \n...                                                   ...     ...   \n16632   \"my doctor told me that the key to mucinex wor...    10.0   \n63457   \"i had the kyleena inserted today. i was very ...    10.0   \n22581   \"i promised to come back and do a review of th...     9.0   \n30922   \"my dr has me on atorvastatin 80 mgs.  i did n...     1.0   \n41539   \"i was over weight and prediabetic. i have bee...    10.0   \n\n                      date  usefulCount  review_length class_2ways  \n88136     October 13, 2010            0             87    positive  \n100915    January 23, 2012           25            123    positive  \n61175   September 17, 2015           28            136    negative  \n15209    December 19, 2015            3             74    negative  \n100666      April 20, 2017           45            140    positive  \n...                    ...          ...            ...         ...  \n16632    December 18, 2015            2            100    positive  \n63457        July 13, 2017            3             75    positive  \n22581     January 13, 2014           93            126    positive  \n30922     November 5, 2017            2            100    negative  \n41539       April 30, 2014          106            109    positive  \n\n[10000 rows x 10 columns]",
            "text/html": "<div>\n<style scoped>\n    .dataframe tbody tr th:only-of-type {\n        vertical-align: middle;\n    }\n\n    .dataframe tbody tr th {\n        vertical-align: top;\n    }\n\n    .dataframe thead th {\n        text-align: right;\n    }\n</style>\n<table border=\"1\" class=\"dataframe\">\n  <thead>\n    <tr style=\"text-align: right;\">\n      <th></th>\n      <th>Unnamed: 0</th>\n      <th>patient_id</th>\n      <th>drugName</th>\n      <th>condition</th>\n      <th>review</th>\n      <th>rating</th>\n      <th>date</th>\n      <th>usefulCount</th>\n      <th>review_length</th>\n      <th>class_2ways</th>\n    </tr>\n  </thead>\n  <tbody>\n    <tr>\n      <th>88136</th>\n      <td>8136</td>\n      <td>104770</td>\n      <td>Ethinyl estradiol / levonorgestrel</td>\n      <td>birth control</td>\n      <td>\"i've been on aviane for a little over a year....</td>\n      <td>9.0</td>\n      <td>October 13, 2010</td>\n      <td>0</td>\n      <td>87</td>\n      <td>positive</td>\n    </tr>\n    <tr>\n      <th>100915</th>\n      <td>915</td>\n      <td>89564</td>\n      <td>Celexa</td>\n      <td>depression</td>\n      <td>\"i was diagnosed with obsessive compulsive dis...</td>\n      <td>9.0</td>\n      <td>January 23, 2012</td>\n      <td>25</td>\n      <td>123</td>\n      <td>positive</td>\n    </tr>\n    <tr>\n      <th>61175</th>\n      <td>1175</td>\n      <td>116281</td>\n      <td>Adalimumab</td>\n      <td>ulcerative colitis</td>\n      <td>\"i was put on humira on june 10, 2015 for seve...</td>\n      <td>1.0</td>\n      <td>September 17, 2015</td>\n      <td>28</td>\n      <td>136</td>\n      <td>negative</td>\n    </tr>\n    <tr>\n      <th>15209</th>\n      <td>5209</td>\n      <td>119319</td>\n      <td>Testosterone</td>\n      <td>hypogonadism, male</td>\n      <td>\"i tried andro-gel for about 6-8 months. i did...</td>\n      <td>4.0</td>\n      <td>December 19, 2015</td>\n      <td>3</td>\n      <td>74</td>\n      <td>negative</td>\n    </tr>\n    <tr>\n      <th>100666</th>\n      <td>666</td>\n      <td>29069</td>\n      <td>Topiramate</td>\n      <td>obesity</td>\n      <td>\"i'm calling this the 'closer to perfection dr...</td>\n      <td>10.0</td>\n      <td>April 20, 2017</td>\n      <td>45</td>\n      <td>140</td>\n      <td>positive</td>\n    </tr>\n    <tr>\n      <th>...</th>\n      <td>...</td>\n      <td>...</td>\n      <td>...</td>\n      <td>...</td>\n      <td>...</td>\n      <td>...</td>\n      <td>...</td>\n      <td>...</td>\n      <td>...</td>\n      <td>...</td>\n    </tr>\n    <tr>\n      <th>16632</th>\n      <td>6632</td>\n      <td>209128</td>\n      <td>Mucinex D Maximum Strength</td>\n      <td>cough and nasal congestion</td>\n      <td>\"my doctor told me that the key to mucinex wor...</td>\n      <td>10.0</td>\n      <td>December 18, 2015</td>\n      <td>2</td>\n      <td>100</td>\n      <td>positive</td>\n    </tr>\n    <tr>\n      <th>63457</th>\n      <td>3457</td>\n      <td>142761</td>\n      <td>Levonorgestrel</td>\n      <td>birth control</td>\n      <td>\"i had the kyleena inserted today. i was very ...</td>\n      <td>10.0</td>\n      <td>July 13, 2017</td>\n      <td>3</td>\n      <td>75</td>\n      <td>positive</td>\n    </tr>\n    <tr>\n      <th>22581</th>\n      <td>2581</td>\n      <td>201514</td>\n      <td>Zoloft</td>\n      <td>panic disorde</td>\n      <td>\"i promised to come back and do a review of th...</td>\n      <td>9.0</td>\n      <td>January 13, 2014</td>\n      <td>93</td>\n      <td>126</td>\n      <td>positive</td>\n    </tr>\n    <tr>\n      <th>30922</th>\n      <td>922</td>\n      <td>194457</td>\n      <td>Atorvastatin</td>\n      <td>high cholesterol</td>\n      <td>\"my dr has me on atorvastatin 80 mgs.  i did n...</td>\n      <td>1.0</td>\n      <td>November 5, 2017</td>\n      <td>2</td>\n      <td>100</td>\n      <td>negative</td>\n    </tr>\n    <tr>\n      <th>41539</th>\n      <td>1539</td>\n      <td>169324</td>\n      <td>Diethylpropion</td>\n      <td>obesity</td>\n      <td>\"i was over weight and prediabetic. i have bee...</td>\n      <td>10.0</td>\n      <td>April 30, 2014</td>\n      <td>106</td>\n      <td>109</td>\n      <td>positive</td>\n    </tr>\n  </tbody>\n</table>\n<p>10000 rows × 10 columns</p>\n</div>"
          },
          "metadata": {}
        }
      ],
      "execution_count": null
    },
    {
      "cell_type": "markdown",
      "source": [
        "## Data Visualization"
      ],
      "metadata": {
        "id": "XRowCSIlBqzn"
      }
    },
    {
      "cell_type": "code",
      "source": [
        "# Two classes\n",
        "\n",
        "# Get the counts\n",
        "class_count1 = df['class_2ways'].value_counts()\n",
        "\n",
        "# Print the counts\n",
        "print(\"Class distribution:\")\n",
        "print(class_count1)\n",
        "\n",
        "# If you want to see the percentages as well\n",
        "print(\"\\nClass distribution (percentage):\")\n",
        "print(df['class_2ways'].value_counts(normalize=True) * 100)\n",
        "\n",
        "# To get individual counts\n",
        "df_positive_count = class_count1['positive']\n",
        "df_negative_count = class_count1['negative']\n",
        "\n",
        "print(f\"\\nPositive count: {df_positive_count}\")\n",
        "print(f\"Negative count: {df_negative_count}\")\n"
      ],
      "metadata": {
        "execution": {
          "iopub.status.busy": "2024-10-23T15:53:00.216875Z",
          "iopub.execute_input": "2024-10-23T15:53:00.217282Z",
          "iopub.status.idle": "2024-10-23T15:53:00.234214Z",
          "shell.execute_reply.started": "2024-10-23T15:53:00.217250Z",
          "shell.execute_reply": "2024-10-23T15:53:00.233124Z"
        },
        "trusted": true,
        "id": "oTsGXmuGmG8w",
        "outputId": "998edfd2-2615-4a6c-8d8d-4405febc0a36"
      },
      "outputs": [
        {
          "name": "stdout",
          "text": "Class distribution:\npositive    7617\nnegative    2383\nName: class_2ways, dtype: int64\n\nClass distribution (percentage):\npositive    76.17\nnegative    23.83\nName: class_2ways, dtype: float64\n\nPositive count: 7617\nNegative count: 2383\n",
          "output_type": "stream"
        }
      ],
      "execution_count": null
    },
    {
      "cell_type": "code",
      "source": [
        "# Two classes\n",
        "\n",
        "import matplotlib.pyplot as plt\n",
        "\n",
        "classes = ['Positive', 'Negative']\n",
        "counts = [df_positive_count, df_negative_count]\n",
        "\n",
        "plt.figure(figsize=(10, 6))\n",
        "bars = plt.bar(classes, counts)\n",
        "\n",
        "# Customize the chart\n",
        "plt.title('Distribution of Positive and Negative Comments')\n",
        "plt.xlabel('Comment Class')\n",
        "plt.ylabel('Number of Comments')\n",
        "\n",
        "# Add value labels on top of each bar\n",
        "for bar in bars:\n",
        "    height = bar.get_height()\n",
        "    plt.text(bar.get_x() + bar.get_width()/2., height,\n",
        "             f'{height}',\n",
        "             ha='center', va='bottom')\n",
        "\n",
        "# Add colors\n",
        "bars[0].set_color('green')\n",
        "bars[1].set_color('red')\n",
        "\n",
        "plt.show()"
      ],
      "metadata": {
        "execution": {
          "iopub.status.busy": "2024-10-23T02:14:09.258204Z",
          "iopub.execute_input": "2024-10-23T02:14:09.258622Z",
          "iopub.status.idle": "2024-10-23T02:14:09.503620Z",
          "shell.execute_reply.started": "2024-10-23T02:14:09.258586Z",
          "shell.execute_reply": "2024-10-23T02:14:09.502610Z"
        },
        "trusted": true,
        "id": "EBsD4mRYmG8x",
        "outputId": "8358625f-dc09-4276-d0db-cdc5315432ad"
      },
      "outputs": [
        {
          "output_type": "display_data",
          "data": {
            "text/plain": "<Figure size 720x432 with 1 Axes>",
            "image/png": "[encoded data removed]"
          },
          "metadata": {
            "image/png": {
              "width": 633,
              "height": 398
            }
          }
        }
      ],
      "execution_count": null
    },
    {
      "cell_type": "code",
      "source": [
        "df_balanced.review[4870]"
      ],
      "metadata": {
        "execution": {
          "iopub.status.busy": "2024-10-14T15:24:15.710295Z",
          "iopub.execute_input": "2024-10-14T15:24:15.710621Z",
          "iopub.status.idle": "2024-10-14T15:24:15.716575Z",
          "shell.execute_reply.started": "2024-10-14T15:24:15.710592Z",
          "shell.execute_reply": "2024-10-14T15:24:15.715561Z"
        },
        "trusted": true,
        "id": "nqEGHis0mG8z"
      },
      "outputs": [],
      "execution_count": null
    },
    {
      "cell_type": "markdown",
      "source": [
        "# Data Preprocessing\n",
        "\n"
      ],
      "metadata": {
        "id": "JeJSe1hIEzU5"
      }
    },
    {
      "cell_type": "code",
      "source": [
        "# Set the model name\n",
        "MODEL_NAME = 'bert-base-uncased'\n",
        "\n",
        "# Build a BERT based tokenizer\n",
        "tokenizer = BertTokenizer.from_pretrained(MODEL_NAME)"
      ],
      "metadata": {
        "id": "Uj5eXyqYEzU6",
        "outputId": "4a6b71ec-7503-4884-c669-08383d60225e",
        "execution": {
          "iopub.status.busy": "2024-10-17T19:03:20.718822Z",
          "iopub.execute_input": "2024-10-17T19:03:20.719300Z",
          "iopub.status.idle": "2024-10-17T19:03:21.156361Z",
          "shell.execute_reply.started": "2024-10-17T19:03:20.719257Z",
          "shell.execute_reply": "2024-10-17T19:03:21.155331Z"
        },
        "trusted": true,
        "colab": {
          "referenced_widgets": [
            "efeec26bd8d64894a717c19599e8f1d8"
          ]
        }
      },
      "outputs": [
        {
          "output_type": "display_data",
          "data": {
            "text/plain": "HBox(children=(FloatProgress(value=0.0, description='Downloading', max=231508.0, style=ProgressStyle(descripti…",
            "application/vnd.jupyter.widget-view+json": {
              "version_major": 2,
              "version_minor": 0,
              "model_id": "efeec26bd8d64894a717c19599e8f1d8"
            }
          },
          "metadata": {}
        },
        {
          "name": "stdout",
          "text": "\n",
          "output_type": "stream"
        }
      ],
      "execution_count": null
    },
    {
      "cell_type": "code",
      "source": [
        "# Some of the common BERT tokens\n",
        "print(tokenizer.sep_token, tokenizer.sep_token_id) # marker for ending of a sentence\n",
        "print(tokenizer.cls_token, tokenizer.cls_token_id) # start of each sentence, so BERT knows we’re doing classification\n",
        "print(tokenizer.pad_token, tokenizer.pad_token_id) # special token for padding\n",
        "print(tokenizer.unk_token, tokenizer.unk_token_id) # tokens not found in training set"
      ],
      "metadata": {
        "id": "5XqmI4AZEzU9",
        "outputId": "773ac222-7aa8-48d6-eeab-2239646a805a",
        "execution": {
          "iopub.status.busy": "2024-10-17T19:03:25.810406Z",
          "iopub.execute_input": "2024-10-17T19:03:25.810796Z",
          "iopub.status.idle": "2024-10-17T19:03:25.818602Z",
          "shell.execute_reply.started": "2024-10-17T19:03:25.810763Z",
          "shell.execute_reply": "2024-10-17T19:03:25.817621Z"
        },
        "trusted": true
      },
      "outputs": [
        {
          "name": "stdout",
          "text": "[SEP] 102\n[CLS] 101\n[PAD] 0\n[UNK] 100\n",
          "output_type": "stream"
        }
      ],
      "execution_count": null
    },
    {
      "cell_type": "markdown",
      "source": [
        "BERT works with fixed-length sequences. We’ll use a simple strategy to choose the max length. Let’s store the token length of each review."
      ],
      "metadata": {
        "id": "r-ridSzLEzVA"
      }
    },
    {
      "cell_type": "code",
      "source": [
        "# Store length of each review\n",
        "token_lens = []\n",
        "\n",
        "# Iterate through the review column\n",
        "for txt in df.review:\n",
        "    tokens = tokenizer.encode(txt, max_length=512)\n",
        "    token_lens.append(len(tokens))"
      ],
      "metadata": {
        "id": "oBIUYNVoEzVB",
        "outputId": "fbdb58c8-ea3b-44b7-a77f-950c5c18564a",
        "execution": {
          "iopub.status.busy": "2024-10-17T19:04:03.350774Z",
          "iopub.execute_input": "2024-10-17T19:04:03.351194Z",
          "iopub.status.idle": "2024-10-17T19:04:42.713951Z",
          "shell.execute_reply.started": "2024-10-17T19:04:03.351153Z",
          "shell.execute_reply": "2024-10-17T19:04:42.713103Z"
        },
        "trusted": true
      },
      "outputs": [
        {
          "name": "stderr",
          "text": "Truncation was not explicitly activated but `max_length` is provided a specific value, please use `truncation=True` to explicitly truncate examples to max length. Defaulting to 'longest_first' truncation strategy. If you encode pairs of sequences (GLUE-style) with the tokenizer you can select this strategy more precisely by providing a specific strategy to `truncation`.\n",
          "output_type": "stream"
        }
      ],
      "execution_count": null
    },
    {
      "cell_type": "code",
      "source": [
        "# plot the distribution of review lengths\n",
        "sns.distplot(token_lens)\n",
        "plt.xlim([0, 256]);\n",
        "plt.xlabel('Token count')"
      ],
      "metadata": {
        "id": "bpVn-ndyEzVE",
        "outputId": "70db118d-4736-4b61-db2d-bc9de8e0d977",
        "execution": {
          "iopub.status.busy": "2024-10-17T19:04:42.716185Z",
          "iopub.execute_input": "2024-10-17T19:04:42.716526Z",
          "iopub.status.idle": "2024-10-17T19:04:43.264476Z",
          "shell.execute_reply.started": "2024-10-17T19:04:42.716485Z",
          "shell.execute_reply": "2024-10-17T19:04:43.263504Z"
        },
        "trusted": true
      },
      "outputs": [
        {
          "execution_count": 39,
          "output_type": "execute_result",
          "data": {
            "text/plain": "Text(0.5, 0, 'Token count')"
          },
          "metadata": {}
        },
        {
          "output_type": "display_data",
          "data": {
            "text/plain": "<Figure size 864x576 with 1 Axes>",
            "image/png": "[encoded data removed]"
          },
          "metadata": {
            "image/png": {
              "width": 731,
              "height": 489
            }
          }
        }
      ],
      "execution_count": null
    },
    {
      "cell_type": "markdown",
      "source": [
        "Most of the reviews seem to contain less than 190 tokens,"
      ],
      "metadata": {
        "id": "QMj924FHEzVI"
      }
    },
    {
      "cell_type": "code",
      "source": [
        "MAX_LEN = 220"
      ],
      "metadata": {
        "id": "blPAZJOPEzVJ",
        "execution": {
          "iopub.status.busy": "2024-10-17T19:04:43.265870Z",
          "iopub.execute_input": "2024-10-17T19:04:43.266201Z",
          "iopub.status.idle": "2024-10-17T19:04:43.270216Z",
          "shell.execute_reply.started": "2024-10-17T19:04:43.266170Z",
          "shell.execute_reply": "2024-10-17T19:04:43.269394Z"
        },
        "trusted": true
      },
      "outputs": [],
      "execution_count": null
    },
    {
      "cell_type": "markdown",
      "source": [
        "# BERT"
      ],
      "metadata": {
        "id": "G8jnlkg7mG81"
      }
    },
    {
      "cell_type": "markdown",
      "source": [
        "Oversampling For BERT"
      ],
      "metadata": {
        "id": "BMLs5rEqmG81"
      }
    },
    {
      "cell_type": "code",
      "source": [
        "import pandas as pd\n",
        "from sklearn.model_selection import train_test_split\n",
        "from sklearn.preprocessing import LabelEncoder\n",
        "from imblearn.over_sampling import RandomOverSampler\n",
        "from collections import Counter\n",
        "\n",
        "# Combine review, drugName, and condition into a single text column\n",
        "df['input_text'] = df['review'] + ' [SEP] ' + df['drugName'] + ' [SEP] ' + df['condition']\n",
        "\n",
        "# Encode the labels for class_2ways\n",
        "label_encoder_2ways = LabelEncoder()\n",
        "df['class_2ways'] = label_encoder_2ways.fit_transform(df['class_2ways'])\n",
        "\n",
        "# Train-test split\n",
        "train_df, val_df = train_test_split(df, test_size=0.2, random_state=42) #train  80%, test 20%\n",
        "\n",
        "# Separate features and labels for oversampling\n",
        "X_train = train_df['input_text'].values.reshape(-1, 1)  # Reshape for RandomOverSampler\n",
        "y_train_2ways = train_df['class_2ways']\n",
        "\n",
        "\n"
      ],
      "metadata": {
        "execution": {
          "iopub.status.busy": "2024-10-31T22:28:57.906996Z",
          "iopub.execute_input": "2024-10-31T22:28:57.907449Z",
          "iopub.status.idle": "2024-10-31T22:28:58.080889Z",
          "shell.execute_reply.started": "2024-10-31T22:28:57.907405Z",
          "shell.execute_reply": "2024-10-31T22:28:58.079784Z"
        },
        "trusted": true,
        "id": "jeY5oCxVmG81"
      },
      "outputs": [],
      "execution_count": null
    },
    {
      "cell_type": "code",
      "source": [
        "# Apply Random Oversampling\n",
        "oversampler = RandomOverSampler(sampling_strategy='auto', random_state=42)\n",
        "X_resampled, y_resampled = oversampler.fit_resample(X_train, y_train_2ways)\n",
        "\n",
        "# Create a new DataFrame from the resampled data\n",
        "resampled_df = pd.DataFrame(X_resampled, columns=['input_text'])\n",
        "resampled_df['class_2ways'] = y_resampled\n",
        "\n",
        "# Prepare data for both tasks\n",
        "train_texts, val_texts = resampled_df['input_text'].tolist(), val_df['input_text'].tolist()\n",
        "train_labels_2ways, val_labels_2ways = resampled_df['class_2ways'].tolist(), val_df['class_2ways'].tolist()\n",
        "\n",
        "#Check the new class distribution for class_2ways\n",
        "print(\"Resampled class distribution (class_2ways):\", Counter(y_resampled))"
      ],
      "metadata": {
        "execution": {
          "iopub.status.busy": "2024-10-31T22:29:07.274459Z",
          "iopub.execute_input": "2024-10-31T22:29:07.274855Z",
          "iopub.status.idle": "2024-10-31T22:29:07.302583Z",
          "shell.execute_reply.started": "2024-10-31T22:29:07.274822Z",
          "shell.execute_reply": "2024-10-31T22:29:07.301473Z"
        },
        "trusted": true,
        "id": "LKf2tuXpmG81",
        "outputId": "03cdebb5-161b-435d-8b7c-8b6cd43af599"
      },
      "outputs": [
        {
          "name": "stdout",
          "text": "Resampled class distribution (class_2ways): Counter({1: 6111, 0: 6111})\n",
          "output_type": "stream"
        }
      ],
      "execution_count": null
    },
    {
      "cell_type": "code",
      "source": [
        "from collections import Counter\n",
        "\n",
        "print(\"Resampled training set class distribution (class_2ways):\", Counter(y_resampled))\n",
        "print(\"Validation set class distribution (class_2ways):\", Counter(val_df['class_2ways']))\n"
      ],
      "metadata": {
        "execution": {
          "iopub.status.busy": "2024-10-31T23:07:34.529005Z",
          "iopub.execute_input": "2024-10-31T23:07:34.529503Z",
          "iopub.status.idle": "2024-10-31T23:07:34.542118Z",
          "shell.execute_reply.started": "2024-10-31T23:07:34.529458Z",
          "shell.execute_reply": "2024-10-31T23:07:34.540903Z"
        },
        "trusted": true,
        "id": "aDeX_objmG82",
        "outputId": "d1d4258a-0ae9-4948-d9c1-2454cfc520ee"
      },
      "outputs": [
        {
          "name": "stdout",
          "text": "Resampled training set class distribution (class_2ways): Counter({1: 6111, 0: 6111})\nValidation set class distribution (class_2ways): Counter({1: 1506, 0: 494})\n",
          "output_type": "stream"
        }
      ],
      "execution_count": null
    },
    {
      "cell_type": "code",
      "source": [
        "from transformers import BertTokenizer\n",
        "\n",
        "tokenizer = BertTokenizer.from_pretrained('bert-base-uncased')\n",
        "\n",
        "def tokenize_texts(texts, max_length=128):\n",
        "    return tokenizer(texts, padding=True, truncation=True, max_length=max_length, return_tensors='pt')\n",
        "\n",
        "train_encodings = tokenize_texts(train_texts)\n",
        "val_encodings = tokenize_texts(val_texts)\n",
        "\n",
        "import torch\n",
        "\n",
        "class ReviewDataset(torch.utils.data.Dataset):\n",
        "    def __init__(self, encodings, labels):\n",
        "        self.encodings = encodings\n",
        "        self.labels = labels\n",
        "\n",
        "    def __getitem__(self, idx):\n",
        "        item = {key: torch.tensor(val[idx]) for key, val in self.encodings.items()}\n",
        "        item['labels'] = torch.tensor(self.labels[idx])\n",
        "        return item\n",
        "\n",
        "    def __len__(self):\n",
        "        return len(self.labels)\n",
        "\n",
        "train_dataset_2ways = ReviewDataset(train_encodings, train_labels_2ways)\n",
        "val_dataset_2ways = ReviewDataset(val_encodings, val_labels_2ways)\n",
        "\n",
        "from transformers import BertForSequenceClassification\n",
        "\n",
        "# Initialize model for class_2ways (binary classification)\n",
        "model_2ways = BertForSequenceClassification.from_pretrained('bert-base-uncased', num_labels=2)\n",
        "\n"
      ],
      "metadata": {
        "execution": {
          "iopub.status.busy": "2024-10-31T06:31:34.954385Z",
          "iopub.execute_input": "2024-10-31T06:31:34.954744Z",
          "iopub.status.idle": "2024-10-31T06:32:31.168033Z",
          "shell.execute_reply.started": "2024-10-31T06:31:34.954714Z",
          "shell.execute_reply": "2024-10-31T06:32:31.167051Z"
        },
        "trusted": true,
        "colab": {
          "referenced_widgets": [
            "af90ab5834ea4331b1350b25eae6040c",
            "8f794a32294d48d89c2eb561a9c46cca",
            "5835a2e45e7747719a8775abd660b04b"
          ]
        },
        "id": "6Geety7EmG82",
        "outputId": "dc29b428-e892-4790-98d1-9fc0b2af7bec"
      },
      "outputs": [
        {
          "output_type": "display_data",
          "data": {
            "text/plain": "HBox(children=(FloatProgress(value=0.0, description='Downloading', max=231508.0, style=ProgressStyle(descripti…",
            "application/vnd.jupyter.widget-view+json": {
              "version_major": 2,
              "version_minor": 0,
              "model_id": "af90ab5834ea4331b1350b25eae6040c"
            }
          },
          "metadata": {}
        },
        {
          "name": "stdout",
          "text": "\n",
          "output_type": "stream"
        },
        {
          "output_type": "display_data",
          "data": {
            "text/plain": "HBox(children=(FloatProgress(value=0.0, description='Downloading', max=570.0, style=ProgressStyle(description_…",
            "application/vnd.jupyter.widget-view+json": {
              "version_major": 2,
              "version_minor": 0,
              "model_id": "8f794a32294d48d89c2eb561a9c46cca"
            }
          },
          "metadata": {}
        },
        {
          "name": "stdout",
          "text": "\n",
          "output_type": "stream"
        },
        {
          "output_type": "display_data",
          "data": {
            "text/plain": "HBox(children=(FloatProgress(value=0.0, description='Downloading', max=440473133.0, style=ProgressStyle(descri…",
            "application/vnd.jupyter.widget-view+json": {
              "version_major": 2,
              "version_minor": 0,
              "model_id": "5835a2e45e7747719a8775abd660b04b"
            }
          },
          "metadata": {}
        },
        {
          "name": "stdout",
          "text": "\n",
          "output_type": "stream"
        },
        {
          "name": "stderr",
          "text": "Some weights of the model checkpoint at bert-base-uncased were not used when initializing BertForSequenceClassification: ['cls.predictions.bias', 'cls.predictions.transform.dense.weight', 'cls.predictions.transform.dense.bias', 'cls.predictions.decoder.weight', 'cls.seq_relationship.weight', 'cls.seq_relationship.bias', 'cls.predictions.transform.LayerNorm.weight', 'cls.predictions.transform.LayerNorm.bias']\n- This IS expected if you are initializing BertForSequenceClassification from the checkpoint of a model trained on another task or with another architecture (e.g. initializing a BertForSequenceClassification model from a BertForPreTraining model).\n- This IS NOT expected if you are initializing BertForSequenceClassification from the checkpoint of a model that you expect to be exactly identical (initializing a BertForSequenceClassification model from a BertForSequenceClassification model).\nSome weights of BertForSequenceClassification were not initialized from the model checkpoint at bert-base-uncased and are newly initialized: ['classifier.weight', 'classifier.bias']\nYou should probably TRAIN this model on a down-stream task to be able to use it for predictions and inference.\n",
          "output_type": "stream"
        }
      ],
      "execution_count": null
    },
    {
      "cell_type": "code",
      "source": [
        "import torch\n",
        "from torch.optim import AdamW\n",
        "from torch.optim.lr_scheduler import LambdaLR\n",
        "from torch.utils.data import DataLoader\n",
        "\n",
        "# Create DataLoaders\n",
        "train_loader_2ways = DataLoader(train_dataset_2ways, batch_size=16, shuffle=True)\n",
        "val_loader_2ways = DataLoader(val_dataset_2ways, batch_size=16, shuffle=False)\n",
        "\n",
        "# Optimizer\n",
        "optimizer = AdamW(model_2ways.parameters(), lr=2e-5)\n",
        "\n",
        "# Learning rate scheduler using LambdaLR\n",
        "num_epochs = 3\n",
        "num_training_steps = num_epochs * len(train_loader_2ways)\n",
        "\n",
        "# Linear scheduler with warmup\n",
        "def lr_lambda(current_step: int):\n",
        "    warmup_steps = 0\n",
        "    if current_step < warmup_steps:\n",
        "        return float(current_step) / float(max(1, warmup_steps))\n",
        "    return max(0.0, float(num_training_steps - current_step) / float(max(1, num_training_steps - warmup_steps)))\n",
        "\n",
        "lr_scheduler = LambdaLR(optimizer, lr_lambda=lr_lambda)\n",
        "\n",
        "# Training loop\n",
        "device = torch.device(\"cuda\") if torch.cuda.is_available() else torch.device(\"cpu\")\n",
        "model_2ways.to(device)\n",
        "\n",
        "for epoch in range(num_epochs):\n",
        "    model_2ways.train()\n",
        "    for batch in train_loader_2ways:\n",
        "        batch = {k: v.to(device) for k, v in batch.items()}\n",
        "\n",
        "        # Pass labels during the forward pass to get the loss automatically\n",
        "        outputs = model_2ways(**batch, return_dict=True)\n",
        "\n",
        "        # Access the loss from the returned dictionary\n",
        "        loss = outputs['loss']\n",
        "        loss.backward()\n",
        "\n",
        "        optimizer.step()\n",
        "        lr_scheduler.step()  # Use the PyTorch LambdaLR scheduler\n",
        "        optimizer.zero_grad()\n",
        "\n",
        "    print(f\"Epoch {epoch + 1}/{num_epochs} completed.\")\n",
        "\n"
      ],
      "metadata": {
        "execution": {
          "iopub.status.busy": "2024-10-31T06:32:31.169886Z",
          "iopub.execute_input": "2024-10-31T06:32:31.170214Z",
          "iopub.status.idle": "2024-10-31T16:46:50.967403Z",
          "shell.execute_reply.started": "2024-10-31T06:32:31.170171Z",
          "shell.execute_reply": "2024-10-31T16:46:50.966280Z"
        },
        "trusted": true,
        "id": "4P0cf0tMmG82",
        "outputId": "1b462c72-dc29-4cee-d0c8-a38af4f4b326"
      },
      "outputs": [
        {
          "name": "stdout",
          "text": "Epoch 1/3 completed.\nEpoch 2/3 completed.\nEpoch 3/3 completed.\n",
          "output_type": "stream"
        }
      ],
      "execution_count": null
    },
    {
      "cell_type": "code",
      "source": [
        "from sklearn.metrics import accuracy_score\n",
        "\n",
        "# Evaluation loop for class_2ways\n",
        "model_2ways.eval()\n",
        "predictions = []\n",
        "true_labels = []\n",
        "\n",
        "for batch in val_loader_2ways:\n",
        "    batch = {k: v.to(device) for k, v in batch.items()}\n",
        "    with torch.no_grad():\n",
        "        # Ensure return_dict=True to access logits easily\n",
        "        outputs = model_2ways(**batch, return_dict=True)\n",
        "\n",
        "    # Access logits from the outputs dictionary\n",
        "    logits = outputs['logits']\n",
        "\n",
        "    # Get predicted class labels\n",
        "    predictions.append(logits.argmax(dim=-1).cpu().numpy())\n",
        "    true_labels.append(batch['labels'].cpu().numpy())\n",
        "\n",
        "# Flatten the predictions and true labels lists\n",
        "predictions = [item for sublist in predictions for item in sublist]\n",
        "true_labels = [item for sublist in true_labels for item in sublist]\n",
        "\n",
        "# Calculate accuracy\n",
        "accuracy = accuracy_score(true_labels, predictions)\n",
        "\n",
        "print(f\"Validation Accuracy (class_2ways): {accuracy}\")"
      ],
      "metadata": {
        "execution": {
          "iopub.status.busy": "2024-10-31T16:46:50.969305Z",
          "iopub.execute_input": "2024-10-31T16:46:50.969601Z",
          "iopub.status.idle": "2024-10-31T16:57:20.052373Z",
          "shell.execute_reply.started": "2024-10-31T16:46:50.969570Z",
          "shell.execute_reply": "2024-10-31T16:57:20.051457Z"
        },
        "trusted": true,
        "id": "M1gwhiXGmG83",
        "outputId": "076b2659-b0d4-4b43-c54f-4b75f164caa8"
      },
      "outputs": [
        {
          "name": "stdout",
          "text": "Validation Accuracy (class_2ways): 0.864\n",
          "output_type": "stream"
        }
      ],
      "execution_count": null
    },
    {
      "cell_type": "code",
      "source": [
        "report = classification_report(true_labels, predictions, target_names=['Negative', 'Postivive'])\n",
        "print(\"BERT Classification Report (class_2ways):\")\n",
        "print(report)"
      ],
      "metadata": {
        "execution": {
          "iopub.status.busy": "2024-10-31T17:41:11.910707Z",
          "iopub.execute_input": "2024-10-31T17:41:11.911071Z",
          "iopub.status.idle": "2024-10-31T17:41:11.925127Z",
          "shell.execute_reply.started": "2024-10-31T17:41:11.911034Z",
          "shell.execute_reply": "2024-10-31T17:41:11.924038Z"
        },
        "trusted": true,
        "id": "Ny3yQM2ymG83",
        "outputId": "88149bbc-8755-4eca-c6b2-d8bd68001ed5"
      },
      "outputs": [
        {
          "name": "stdout",
          "text": "BERT Classification Report (class_2ways):\n              precision    recall  f1-score   support\n\n    Negative       0.75      0.68      0.71       494\n   Postivive       0.90      0.92      0.91      1506\n\n    accuracy                           0.86      2000\n   macro avg       0.82      0.80      0.81      2000\nweighted avg       0.86      0.86      0.86      2000\n\n",
          "output_type": "stream"
        }
      ],
      "execution_count": null
    },
    {
      "cell_type": "markdown",
      "source": [
        "# LSTM"
      ],
      "metadata": {
        "id": "MPMBWbRamG83"
      }
    },
    {
      "cell_type": "code",
      "source": [
        "# Tokenize the text data to convert words into sequences of integers\n",
        "max_words = 10000  # Maximum number of unique words to consider\n",
        "max_len = 220  # Maximum length of sequences after padding\n",
        "\n",
        "tokenizer = Tokenizer(num_words=max_words)  # Initialize the tokenizer with max words limit\n",
        "tokenizer.fit_on_texts(X_train_resampled.iloc[:, 0])  # Fit the tokenizer on the resampled training texts\n",
        "\n",
        "# Convert texts to sequences of integers using the fitted tokenizer\n",
        "X_train_seq = tokenizer.texts_to_sequences(X_train_resampled.iloc[:, 0])\n",
        "X_test_seq = tokenizer.texts_to_sequences(X_test)\n",
        "\n",
        "# Pad sequences to ensure uniform input size for LSTM\n",
        "X_train_pad = pad_sequences(X_train_seq, maxlen=max_len)\n",
        "X_test_pad = pad_sequences(X_test_seq, maxlen=max_len)\n",
        "\n"
      ],
      "metadata": {
        "execution": {
          "iopub.status.busy": "2024-10-31T18:35:04.203983Z",
          "iopub.execute_input": "2024-10-31T18:35:04.204373Z",
          "iopub.status.idle": "2024-10-31T18:35:06.899318Z",
          "shell.execute_reply.started": "2024-10-31T18:35:04.204332Z",
          "shell.execute_reply": "2024-10-31T18:35:06.898596Z"
        },
        "trusted": true,
        "id": "n8bd-bwwmG84"
      },
      "outputs": [],
      "execution_count": null
    },
    {
      "cell_type": "code",
      "source": [
        "import pandas as pd  # Importing pandas for data manipulation\n",
        "import numpy as np  # Importing numpy for numerical operations\n",
        "from sklearn.model_selection import train_test_split  # For splitting the dataset into training and testing sets\n",
        "from sklearn.preprocessing import LabelEncoder  # For encoding categorical labels\n",
        "from imblearn.over_sampling import RandomOverSampler  # For random oversampling to balance classes\n",
        "from tensorflow.keras.preprocessing.text import Tokenizer  # For text tokenization\n",
        "from tensorflow.keras.preprocessing.sequence import pad_sequences  # For padding sequences to a uniform length\n",
        "from tensorflow.keras.models import Sequential  # For creating a sequential model\n",
        "from tensorflow.keras.layers import Embedding, LSTM, Dense, Dropout  # For adding layers to the model\n",
        "from tensorflow.keras.optimizers import Adam  # For the Adam optimizer\n",
        "from tensorflow.keras.callbacks import EarlyStopping  # For early stopping during training\n",
        "from sklearn.metrics import classification_report, accuracy_score  # For evaluating model performance\n",
        "\n",
        "\n",
        "\n",
        "# Combine review, drugName, and condition into a single text column\n",
        "df['input_text'] = df['review'] + ' [SEP] ' + df['drugName'] + ' [SEP] ' + df['condition']\n",
        "\n",
        "# # Encode the labels for class_2ways into numerical format (0 and 1)\n",
        "label_encoder = LabelEncoder()\n",
        "df['class_2ways'] = label_encoder.fit_transform(df['class_2ways'])\n",
        "\n",
        "# Split the data into training and testing sets (80% train, 20% test)\n",
        "X_train, X_test, y_train, y_test = train_test_split(df['input_text'], df['class_2ways'], test_size=0.2, random_state=42)\n",
        "\n",
        "# Apply random oversampling to the training data to balance class distribution\n",
        "ros = RandomOverSampler(random_state=42)  # Initialize the oversampler\n",
        "X_train_resampled, y_train_resampled = ros.fit_resample(X_train.to_frame(), y_train)  # Fit and resample\n",
        "\n",
        "\n"
      ],
      "metadata": {
        "execution": {
          "iopub.status.busy": "2024-10-31T18:40:06.794244Z",
          "iopub.execute_input": "2024-10-31T18:40:06.794661Z",
          "iopub.status.idle": "2024-10-31T18:40:06.846964Z",
          "shell.execute_reply.started": "2024-10-31T18:40:06.794622Z",
          "shell.execute_reply": "2024-10-31T18:40:06.846304Z"
        },
        "trusted": true,
        "id": "F6h5Tx5DmG84"
      },
      "outputs": [],
      "execution_count": null
    },
    {
      "cell_type": "markdown",
      "source": [
        "\n",
        "    'embedding_dim': [100, 200, 300],\n",
        "    'lstm_units': [64, 128, 256],\n",
        "    'dropout_rate': [0.3, 0.5, 0.7],\n",
        "    'optimizer': ['adam', 'rmsprop']\n"
      ],
      "metadata": {
        "id": "Es3DFtwdmG84"
      }
    },
    {
      "cell_type": "code",
      "source": [
        "Simple LSTM Model"
      ],
      "metadata": {
        "id": "M0_zt8T2LTZZ"
      },
      "execution_count": null,
      "outputs": []
    },
    {
      "cell_type": "code",
      "source": [
        "# Create the LSTM model using a sequential approach\n",
        "model = Sequential([\n",
        "    Embedding(max_words, 100, input_length=max_len),  # Embedding layer for word representation\n",
        "    LSTM(128, return_sequences=True),  # First LSTM layer with output sequences for stacking another LSTM layer\n",
        "    LSTM(64),  # Second LSTM layer with reduced units\n",
        "    Dense(32, activation='relu'),  # Dense layer with ReLU activation for non-linearity\n",
        "    Dropout(0.5),  # Dropout layer for regularization to prevent overfitting\n",
        "    Dense(1, activation='sigmoid')  # Output layer for binary classification (0 or 1)\n",
        "])\n",
        "\n",
        "# Compile the model with Adam optimizer and binary crossentropy loss function\n",
        "model.compile(optimizer=Adam(learning_rate=0.001), loss='binary_crossentropy', metrics=['accuracy'])\n",
        "\n",
        "# Train the model with early stopping to monitor validation loss and prevent overfitting\n",
        "early_stopping = EarlyStopping(monitor='val_loss', patience=3, restore_best_weights=True)\n",
        "\n",
        "history = model.fit(\n",
        "    X_train_pad, y_train_resampled,  # Training data and labels\n",
        "    epochs=10,  # Number of epochs for training\n",
        "    batch_size=32,  # Batch size for training\n",
        "    validation_split=0.2,  # Use 20% of training data for validation during training\n",
        "    callbacks=[early_stopping]  # Include early stopping callback\n",
        ")\n",
        "\n"
      ],
      "metadata": {
        "execution": {
          "iopub.status.busy": "2024-10-31T17:42:32.174521Z",
          "iopub.execute_input": "2024-10-31T17:42:32.175030Z",
          "iopub.status.idle": "2024-10-31T17:55:31.074822Z",
          "shell.execute_reply.started": "2024-10-31T17:42:32.174981Z",
          "shell.execute_reply": "2024-10-31T17:55:31.073984Z"
        },
        "trusted": true,
        "id": "bd15Mb8lmG84",
        "outputId": "39c169c9-942a-4c9d-a7cc-9a41283fae96"
      },
      "outputs": [
        {
          "name": "stdout",
          "text": "Epoch 1/10\n306/306 [==============================] - 78s 255ms/step - loss: 0.4831 - accuracy: 0.7771 - val_loss: 0.5039 - val_accuracy: 0.8037\nEpoch 2/10\n306/306 [==============================] - 76s 249ms/step - loss: 0.2713 - accuracy: 0.8985 - val_loss: 0.3083 - val_accuracy: 0.8998\nEpoch 3/10\n306/306 [==============================] - 77s 253ms/step - loss: 0.1743 - accuracy: 0.9422 - val_loss: 0.2483 - val_accuracy: 0.9133\nEpoch 4/10\n306/306 [==============================] - 77s 253ms/step - loss: 0.1125 - accuracy: 0.9662 - val_loss: 0.0928 - val_accuracy: 0.9816\nEpoch 5/10\n306/306 [==============================] - 77s 251ms/step - loss: 0.0716 - accuracy: 0.9803 - val_loss: 0.0588 - val_accuracy: 0.9861\nEpoch 6/10\n306/306 [==============================] - 77s 252ms/step - loss: 0.0549 - accuracy: 0.9830 - val_loss: 0.0735 - val_accuracy: 0.9800\nEpoch 7/10\n306/306 [==============================] - 77s 253ms/step - loss: 0.0340 - accuracy: 0.9909 - val_loss: 0.0398 - val_accuracy: 0.9894\nEpoch 8/10\n306/306 [==============================] - 77s 252ms/step - loss: 0.0359 - accuracy: 0.9895 - val_loss: 0.0579 - val_accuracy: 0.9881\nEpoch 9/10\n306/306 [==============================] - 77s 252ms/step - loss: 0.0389 - accuracy: 0.9892 - val_loss: 0.0437 - val_accuracy: 0.9922\nEpoch 10/10\n306/306 [==============================] - 77s 252ms/step - loss: 0.0297 - accuracy: 0.9911 - val_loss: 0.0486 - val_accuracy: 0.9902\n",
          "output_type": "stream"
        }
      ],
      "execution_count": null
    },
    {
      "cell_type": "code",
      "source": [
        "# Evaluate the model on the test set to check performance\n",
        "y_pred = model.predict(X_test_pad)  # Get predictions from the model on test data\n",
        "y_pred_classes = (y_pred > 0.5).astype(int).flatten()  # Convert probabilities to binary class predictions\n",
        "\n",
        "# Print accuracy score and classification report for detailed evaluation metrics\n",
        "print(\"Accuracy:\", accuracy_score(y_test, y_pred_classes))\n",
        "print(\"\\nClassification Report:\")\n",
        "print(classification_report(y_test, y_pred_classes))"
      ],
      "metadata": {
        "execution": {
          "iopub.status.busy": "2024-10-31T17:55:31.076929Z",
          "iopub.execute_input": "2024-10-31T17:55:31.077267Z",
          "iopub.status.idle": "2024-10-31T17:55:36.369554Z",
          "shell.execute_reply.started": "2024-10-31T17:55:31.077234Z",
          "shell.execute_reply": "2024-10-31T17:55:36.368531Z"
        },
        "trusted": true,
        "id": "hUPVs6CPmG85",
        "outputId": "be928151-34bd-4459-ab16-5a6749c3114a"
      },
      "outputs": [
        {
          "name": "stdout",
          "text": "Accuracy: 0.7935\n\nClassification Report:\n              precision    recall  f1-score   support\n\n           0       0.59      0.54      0.56       494\n           1       0.85      0.88      0.86      1506\n\n    accuracy                           0.79      2000\n   macro avg       0.72      0.71      0.71      2000\nweighted avg       0.79      0.79      0.79      2000\n\n",
          "output_type": "stream"
        }
      ],
      "execution_count": null
    },
    {
      "cell_type": "markdown",
      "source": [
        "Bi-directional LSTM"
      ],
      "metadata": {
        "id": "-6Bw-MLTLXqN"
      }
    },
    {
      "cell_type": "code",
      "source": [
        "from tensorflow.keras.models import Sequential\n",
        "from tensorflow.keras.layers import Embedding, LSTM, Dense, Dropout, Bidirectional\n",
        "from tensorflow.keras.optimizers import Adam\n",
        "from tensorflow.keras.callbacks import EarlyStopping, ReduceLROnPlateau\n",
        "\n",
        "model = Sequential([\n",
        "    Embedding(max_words, 300, input_length=max_len),  # Embedding with higher dimension or pre-trained embeddings\n",
        "    Bidirectional(LSTM(256, return_sequences=True, recurrent_dropout=0.2)),  # First Bidirectional LSTM layer\n",
        "    Bidirectional(LSTM(128, recurrent_dropout=0.2)),  # Second Bidirectional LSTM layer\n",
        "    Dense(128, activation='relu'),  # Increased units in Dense layer\n",
        "    Dropout(0.3),  # Slightly reduced dropout rate\n",
        "    Dense(1, activation='sigmoid')  # Output layer for binary classification\n",
        "])\n",
        "\n",
        "# Compile the model\n",
        "optimizer = Adam(learning_rate=0.0001)\n",
        "model.compile(optimizer=optimizer, loss='binary_crossentropy', metrics=['accuracy'])\n",
        "\n",
        "# Callbacks for better training control\n",
        "early_stopping = EarlyStopping(monitor='val_loss', patience=3, restore_best_weights=True)\n",
        "reduce_lr = ReduceLROnPlateau(monitor='val_loss', factor=0.5, patience=2, min_lr=1e-6)\n",
        "\n",
        "# Training\n",
        "\n",
        "history = model.fit(\n",
        "    X_train_pad, y_train_resampled,  # Training data and labels\n",
        "    epochs=10,  # Number of epochs for training\n",
        "    batch_size=32,  # Batch size for training\n",
        "    validation_split=0.2,  # Use 20% of training data for validation during training\n",
        "    callbacks=[early_stopping, reduce_lr])  # Include early stopping callback\n"
      ],
      "metadata": {
        "execution": {
          "iopub.status.busy": "2024-10-31T18:40:15.006857Z",
          "iopub.execute_input": "2024-10-31T18:40:15.007198Z",
          "iopub.status.idle": "2024-10-31T20:19:46.604844Z",
          "shell.execute_reply.started": "2024-10-31T18:40:15.007169Z",
          "shell.execute_reply": "2024-10-31T20:19:46.604008Z"
        },
        "trusted": true,
        "id": "y_viOCRlmG85",
        "outputId": "8a711653-3b71-48dd-ec01-85aa6c64a024"
      },
      "outputs": [
        {
          "name": "stdout",
          "text": "Epoch 1/10\n306/306 [==============================] - 594s 2s/step - loss: 0.5537 - accuracy: 0.7100 - val_loss: 0.5005 - val_accuracy: 0.8090\nEpoch 2/10\n306/306 [==============================] - 594s 2s/step - loss: 0.2917 - accuracy: 0.8843 - val_loss: 0.3687 - val_accuracy: 0.8699\nEpoch 3/10\n306/306 [==============================] - 594s 2s/step - loss: 0.1888 - accuracy: 0.9339 - val_loss: 0.1144 - val_accuracy: 0.9693\nEpoch 4/10\n306/306 [==============================] - 593s 2s/step - loss: 0.1243 - accuracy: 0.9603 - val_loss: 0.1136 - val_accuracy: 0.9701\nEpoch 5/10\n306/306 [==============================] - 595s 2s/step - loss: 0.0829 - accuracy: 0.9741 - val_loss: 0.0774 - val_accuracy: 0.9849\nEpoch 6/10\n306/306 [==============================] - 595s 2s/step - loss: 0.0595 - accuracy: 0.9819 - val_loss: 0.0572 - val_accuracy: 0.9881\nEpoch 7/10\n306/306 [==============================] - 594s 2s/step - loss: 0.0428 - accuracy: 0.9876 - val_loss: 0.0632 - val_accuracy: 0.9857\nEpoch 8/10\n306/306 [==============================] - 594s 2s/step - loss: 0.0284 - accuracy: 0.9923 - val_loss: 0.0426 - val_accuracy: 0.9922\nEpoch 9/10\n306/306 [==============================] - 594s 2s/step - loss: 0.0318 - accuracy: 0.9899 - val_loss: 0.0398 - val_accuracy: 0.9926\nEpoch 10/10\n306/306 [==============================] - 597s 2s/step - loss: 0.0305 - accuracy: 0.9901 - val_loss: 0.0514 - val_accuracy: 0.9894\n",
          "output_type": "stream"
        }
      ],
      "execution_count": null
    },
    {
      "cell_type": "code",
      "source": [
        "# Evaluate the model on the test set to check performance\n",
        "y_pred = model.predict(X_test_pad)  # Get predictions from the model on test data\n",
        "y_pred_classes = (y_pred > 0.5).astype(int).flatten()  # Convert probabilities to binary class predictions\n",
        "\n",
        "# Print accuracy score and classification report for detailed evaluation metrics\n",
        "print(\"Accuracy:\", accuracy_score(y_test, y_pred_classes))\n",
        "print(\"\\nClassification Report:\")\n",
        "print(classification_report(y_test, y_pred_classes))"
      ],
      "metadata": {
        "execution": {
          "iopub.status.busy": "2024-10-31T20:24:40.103638Z",
          "iopub.execute_input": "2024-10-31T20:24:40.104010Z",
          "iopub.status.idle": "2024-10-31T20:24:51.697641Z",
          "shell.execute_reply.started": "2024-10-31T20:24:40.103976Z",
          "shell.execute_reply": "2024-10-31T20:24:51.696601Z"
        },
        "trusted": true,
        "id": "xMFYXtCtmG85",
        "outputId": "66947844-da09-4a66-b87a-78ec27b1941f"
      },
      "outputs": [
        {
          "name": "stdout",
          "text": "Accuracy: 0.8185\n\nClassification Report:\n              precision    recall  f1-score   support\n\n           0       0.67      0.53      0.59       494\n           1       0.86      0.91      0.88      1506\n\n    accuracy                           0.82      2000\n   macro avg       0.76      0.72      0.74      2000\nweighted avg       0.81      0.82      0.81      2000\n\n",
          "output_type": "stream"
        }
      ],
      "execution_count": null
    },
    {
      "cell_type": "markdown",
      "source": [
        "# Traditional ML"
      ],
      "metadata": {
        "id": "0MfsAFJymG9C"
      }
    },
    {
      "cell_type": "markdown",
      "source": [
        "Preprocessing with Lemmatization"
      ],
      "metadata": {
        "id": "ln13iggmmG9D"
      }
    },
    {
      "cell_type": "code",
      "source": [
        "import pandas as pd\n",
        "from sklearn.model_selection import train_test_split\n",
        "from sklearn.feature_extraction.text import TfidfVectorizer\n",
        "from sklearn.metrics import classification_report\n",
        "from sklearn.model_selection import GridSearchCV\n",
        "import nltk\n",
        "from nltk.corpus import stopwords\n",
        "from nltk.tokenize import word_tokenize\n",
        "from nltk.stem import WordNetLemmatizer\n",
        "\n",
        "\n",
        "# Combine the relevant text columns for features\n",
        "df['combined_text'] = df['drugName'] + \" \" + df['condition'] + \" \" + df['review']\n",
        "\n",
        "# Download necessary NLTK data\n",
        "nltk.download('punkt')\n",
        "nltk.download('wordnet')\n",
        "nltk.download('stopwords')\n",
        "\n",
        "# Preprocessing setup\n",
        "stop_words = set(stopwords.words('english'))\n",
        "lemmatizer = WordNetLemmatizer()\n",
        "\n",
        "def preprocess_text_lemma(text):\n",
        "    tokens = word_tokenize(text.lower())\n",
        "    tokens = [lemmatizer.lemmatize(token) for token in tokens if token.isalpha() and token not in stop_words]\n",
        "    return ' '.join(tokens)\n",
        "\n",
        "# Apply the function to your DataFrame\n",
        "df['processed_review_lemma'] = df['combined_text'].apply(preprocess_text_lemma)\n",
        "\n",
        "# Features Labels\n",
        "X = df['processed_review_lemma']\n",
        "y_class_2ways = df['class_2ways']\n",
        "\n",
        "\n",
        "\n"
      ],
      "metadata": {
        "execution": {
          "iopub.status.busy": "2024-10-25T21:34:28.484604Z",
          "iopub.execute_input": "2024-10-25T21:34:28.485033Z",
          "iopub.status.idle": "2024-10-25T21:34:54.558979Z",
          "shell.execute_reply.started": "2024-10-25T21:34:28.484989Z",
          "shell.execute_reply": "2024-10-25T21:34:54.557714Z"
        },
        "trusted": true,
        "id": "-2cUSe8OmG9D",
        "outputId": "10761357-8709-4b52-ed67-803580d36441"
      },
      "outputs": [
        {
          "name": "stdout",
          "text": "[nltk_data] Downloading package punkt to /usr/share/nltk_data...\n[nltk_data]   Unzipping tokenizers/punkt.zip.\n[nltk_data] Downloading package wordnet to /usr/share/nltk_data...\n[nltk_data]   Package wordnet is already up-to-date!\n[nltk_data] Downloading package stopwords to /usr/share/nltk_data...\n[nltk_data]   Unzipping corpora/stopwords.zip.\n",
          "output_type": "stream"
        }
      ],
      "execution_count": null
    },
    {
      "cell_type": "code",
      "source": [
        "df"
      ],
      "metadata": {
        "execution": {
          "iopub.status.busy": "2024-10-25T21:34:54.561908Z",
          "iopub.execute_input": "2024-10-25T21:34:54.562293Z",
          "iopub.status.idle": "2024-10-25T21:34:54.610020Z",
          "shell.execute_reply.started": "2024-10-25T21:34:54.562255Z",
          "shell.execute_reply": "2024-10-25T21:34:54.608840Z"
        },
        "trusted": true,
        "id": "aqulx3CemG9D",
        "outputId": "bc65dd25-b02c-4907-85ea-472d958bcc0f"
      },
      "outputs": [
        {
          "execution_count": 10,
          "output_type": "execute_result",
          "data": {
            "text/plain": "        Unnamed: 0  patient_id                            drugName  \\\n88136         8136      104770  Ethinyl estradiol / levonorgestrel   \n100915         915       89564                              Celexa   \n61175         1175      116281                          Adalimumab   \n15209         5209      119319                        Testosterone   \n100666         666       29069                          Topiramate   \n...            ...         ...                                 ...   \n16632         6632      209128          Mucinex D Maximum Strength   \n63457         3457      142761                      Levonorgestrel   \n22581         2581      201514                              Zoloft   \n30922          922      194457                        Atorvastatin   \n41539         1539      169324                      Diethylpropion   \n\n                         condition  \\\n88136                birth control   \n100915                  depression   \n61175           ulcerative colitis   \n15209           hypogonadism, male   \n100666                     obesity   \n...                            ...   \n16632   cough and nasal congestion   \n63457                birth control   \n22581                panic disorde   \n30922             high cholesterol   \n41539                      obesity   \n\n                                                   review  rating  \\\n88136   \"i've been on aviane for a little over a year....     9.0   \n100915  \"i was diagnosed with obsessive compulsive dis...     9.0   \n61175   \"i was put on humira on june 10, 2015 for seve...     1.0   \n15209   \"i tried andro-gel for about 6-8 months. i did...     4.0   \n100666  \"i'm calling this the 'closer to perfection dr...    10.0   \n...                                                   ...     ...   \n16632   \"my doctor told me that the key to mucinex wor...    10.0   \n63457   \"i had the kyleena inserted today. i was very ...    10.0   \n22581   \"i promised to come back and do a review of th...     9.0   \n30922   \"my dr has me on atorvastatin 80 mgs.  i did n...     1.0   \n41539   \"i was over weight and prediabetic. i have bee...    10.0   \n\n                      date  usefulCount  review_length class_2ways  \\\n88136     October 13, 2010            0             87    positive   \n100915    January 23, 2012           25            123    positive   \n61175   September 17, 2015           28            136    negative   \n15209    December 19, 2015            3             74    negative   \n100666      April 20, 2017           45            140    positive   \n...                    ...          ...            ...         ...   \n16632    December 18, 2015            2            100    positive   \n63457        July 13, 2017            3             75    positive   \n22581     January 13, 2014           93            126    positive   \n30922     November 5, 2017            2            100    negative   \n41539       April 30, 2014          106            109    positive   \n\n       class_3ways                                      combined_text  \\\n88136     positive  Ethinyl estradiol / levonorgestrel birth contr...   \n100915    positive  Celexa depression \"i was diagnosed with obsess...   \n61175     negative  Adalimumab ulcerative colitis \"i was put on hu...   \n15209      neutral  Testosterone hypogonadism, male \"i tried andro...   \n100666    positive  Topiramate obesity \"i'm calling this the 'clos...   \n...            ...                                                ...   \n16632     positive  Mucinex D Maximum Strength cough and nasal con...   \n63457     positive  Levonorgestrel birth control \"i had the kyleen...   \n22581     positive  Zoloft panic disorde \"i promised to come back ...   \n30922     negative  Atorvastatin high cholesterol \"my dr has me on...   \n41539     positive  Diethylpropion obesity \"i was over weight and ...   \n\n                                   processed_review_lemma  \n88136   ethinyl estradiol levonorgestrel birth control...  \n100915  celexa depression diagnosed obsessive compulsi...  \n61175   adalimumab ulcerative colitis put humira june ...  \n15209   testosterone hypogonadism male tried month hel...  \n100666  topiramate obesity calling perfection drug sin...  \n...                                                   ...  \n16632   mucinex maximum strength cough nasal congestio...  \n63457   levonorgestrel birth control kyleena inserted ...  \n22581   zoloft panic disorde promised come back review...  \n30922   atorvastatin high cholesterol dr atorvastatin ...  \n41539   diethylpropion obesity weight prediabetic tenu...  \n\n[10000 rows x 13 columns]",
            "text/html": "<div>\n<style scoped>\n    .dataframe tbody tr th:only-of-type {\n        vertical-align: middle;\n    }\n\n    .dataframe tbody tr th {\n        vertical-align: top;\n    }\n\n    .dataframe thead th {\n        text-align: right;\n    }\n</style>\n<table border=\"1\" class=\"dataframe\">\n  <thead>\n    <tr style=\"text-align: right;\">\n      <th></th>\n      <th>Unnamed: 0</th>\n      <th>patient_id</th>\n      <th>drugName</th>\n      <th>condition</th>\n      <th>review</th>\n      <th>rating</th>\n      <th>date</th>\n      <th>usefulCount</th>\n      <th>review_length</th>\n      <th>class_2ways</th>\n      <th>class_3ways</th>\n      <th>combined_text</th>\n      <th>processed_review_lemma</th>\n    </tr>\n  </thead>\n  <tbody>\n    <tr>\n      <th>88136</th>\n      <td>8136</td>\n      <td>104770</td>\n      <td>Ethinyl estradiol / levonorgestrel</td>\n      <td>birth control</td>\n      <td>\"i've been on aviane for a little over a year....</td>\n      <td>9.0</td>\n      <td>October 13, 2010</td>\n      <td>0</td>\n      <td>87</td>\n      <td>positive</td>\n      <td>positive</td>\n      <td>Ethinyl estradiol / levonorgestrel birth contr...</td>\n      <td>ethinyl estradiol levonorgestrel birth control...</td>\n    </tr>\n    <tr>\n      <th>100915</th>\n      <td>915</td>\n      <td>89564</td>\n      <td>Celexa</td>\n      <td>depression</td>\n      <td>\"i was diagnosed with obsessive compulsive dis...</td>\n      <td>9.0</td>\n      <td>January 23, 2012</td>\n      <td>25</td>\n      <td>123</td>\n      <td>positive</td>\n      <td>positive</td>\n      <td>Celexa depression \"i was diagnosed with obsess...</td>\n      <td>celexa depression diagnosed obsessive compulsi...</td>\n    </tr>\n    <tr>\n      <th>61175</th>\n      <td>1175</td>\n      <td>116281</td>\n      <td>Adalimumab</td>\n      <td>ulcerative colitis</td>\n      <td>\"i was put on humira on june 10, 2015 for seve...</td>\n      <td>1.0</td>\n      <td>September 17, 2015</td>\n      <td>28</td>\n      <td>136</td>\n      <td>negative</td>\n      <td>negative</td>\n      <td>Adalimumab ulcerative colitis \"i was put on hu...</td>\n      <td>adalimumab ulcerative colitis put humira june ...</td>\n    </tr>\n    <tr>\n      <th>15209</th>\n      <td>5209</td>\n      <td>119319</td>\n      <td>Testosterone</td>\n      <td>hypogonadism, male</td>\n      <td>\"i tried andro-gel for about 6-8 months. i did...</td>\n      <td>4.0</td>\n      <td>December 19, 2015</td>\n      <td>3</td>\n      <td>74</td>\n      <td>negative</td>\n      <td>neutral</td>\n      <td>Testosterone hypogonadism, male \"i tried andro...</td>\n      <td>testosterone hypogonadism male tried month hel...</td>\n    </tr>\n    <tr>\n      <th>100666</th>\n      <td>666</td>\n      <td>29069</td>\n      <td>Topiramate</td>\n      <td>obesity</td>\n      <td>\"i'm calling this the 'closer to perfection dr...</td>\n      <td>10.0</td>\n      <td>April 20, 2017</td>\n      <td>45</td>\n      <td>140</td>\n      <td>positive</td>\n      <td>positive</td>\n      <td>Topiramate obesity \"i'm calling this the 'clos...</td>\n      <td>topiramate obesity calling perfection drug sin...</td>\n    </tr>\n    <tr>\n      <th>...</th>\n      <td>...</td>\n      <td>...</td>\n      <td>...</td>\n      <td>...</td>\n      <td>...</td>\n      <td>...</td>\n      <td>...</td>\n      <td>...</td>\n      <td>...</td>\n      <td>...</td>\n      <td>...</td>\n      <td>...</td>\n      <td>...</td>\n    </tr>\n    <tr>\n      <th>16632</th>\n      <td>6632</td>\n      <td>209128</td>\n      <td>Mucinex D Maximum Strength</td>\n      <td>cough and nasal congestion</td>\n      <td>\"my doctor told me that the key to mucinex wor...</td>\n      <td>10.0</td>\n      <td>December 18, 2015</td>\n      <td>2</td>\n      <td>100</td>\n      <td>positive</td>\n      <td>positive</td>\n      <td>Mucinex D Maximum Strength cough and nasal con...</td>\n      <td>mucinex maximum strength cough nasal congestio...</td>\n    </tr>\n    <tr>\n      <th>63457</th>\n      <td>3457</td>\n      <td>142761</td>\n      <td>Levonorgestrel</td>\n      <td>birth control</td>\n      <td>\"i had the kyleena inserted today. i was very ...</td>\n      <td>10.0</td>\n      <td>July 13, 2017</td>\n      <td>3</td>\n      <td>75</td>\n      <td>positive</td>\n      <td>positive</td>\n      <td>Levonorgestrel birth control \"i had the kyleen...</td>\n      <td>levonorgestrel birth control kyleena inserted ...</td>\n    </tr>\n    <tr>\n      <th>22581</th>\n      <td>2581</td>\n      <td>201514</td>\n      <td>Zoloft</td>\n      <td>panic disorde</td>\n      <td>\"i promised to come back and do a review of th...</td>\n      <td>9.0</td>\n      <td>January 13, 2014</td>\n      <td>93</td>\n      <td>126</td>\n      <td>positive</td>\n      <td>positive</td>\n      <td>Zoloft panic disorde \"i promised to come back ...</td>\n      <td>zoloft panic disorde promised come back review...</td>\n    </tr>\n    <tr>\n      <th>30922</th>\n      <td>922</td>\n      <td>194457</td>\n      <td>Atorvastatin</td>\n      <td>high cholesterol</td>\n      <td>\"my dr has me on atorvastatin 80 mgs.  i did n...</td>\n      <td>1.0</td>\n      <td>November 5, 2017</td>\n      <td>2</td>\n      <td>100</td>\n      <td>negative</td>\n      <td>negative</td>\n      <td>Atorvastatin high cholesterol \"my dr has me on...</td>\n      <td>atorvastatin high cholesterol dr atorvastatin ...</td>\n    </tr>\n    <tr>\n      <th>41539</th>\n      <td>1539</td>\n      <td>169324</td>\n      <td>Diethylpropion</td>\n      <td>obesity</td>\n      <td>\"i was over weight and prediabetic. i have bee...</td>\n      <td>10.0</td>\n      <td>April 30, 2014</td>\n      <td>106</td>\n      <td>109</td>\n      <td>positive</td>\n      <td>positive</td>\n      <td>Diethylpropion obesity \"i was over weight and ...</td>\n      <td>diethylpropion obesity weight prediabetic tenu...</td>\n    </tr>\n  </tbody>\n</table>\n<p>10000 rows × 13 columns</p>\n</div>"
          },
          "metadata": {}
        }
      ],
      "execution_count": null
    },
    {
      "cell_type": "markdown",
      "source": [
        "Random Oversampling"
      ],
      "metadata": {
        "id": "yRMcmUgtmG9D"
      }
    },
    {
      "cell_type": "code",
      "source": [
        "from imblearn.over_sampling import RandomOverSampler\n",
        "from collections import Counter\n",
        "\n",
        "# Oversampling for class_2ways\n",
        "ros_2ways = RandomOverSampler(random_state=42)\n",
        "X_resampled_2ways, y_resampled_2ways = ros_2ways.fit_resample(X.values.reshape(-1, 1), y_class_2ways)\n",
        "\n",
        "# Check the new class distribution for class_2ways\n",
        "print(\"Resampled class distribution (class_2ways):\", Counter(y_resampled_2ways))\n",
        "\n"
      ],
      "metadata": {
        "execution": {
          "iopub.status.busy": "2024-10-25T21:34:54.611987Z",
          "iopub.execute_input": "2024-10-25T21:34:54.612462Z",
          "iopub.status.idle": "2024-10-25T21:34:54.898420Z",
          "shell.execute_reply.started": "2024-10-25T21:34:54.612412Z",
          "shell.execute_reply": "2024-10-25T21:34:54.897139Z"
        },
        "trusted": true,
        "id": "n4t2Kq5CmG9E",
        "outputId": "79168f10-7296-467c-9c32-0e8f5c92c287"
      },
      "outputs": [
        {
          "name": "stdout",
          "text": "Resampled class distribution (class_2ways): Counter({'positive': 7617, 'negative': 7617})\nResampled class distribution (class_3ways): Counter({'positive': 6706, 'negative': 6706, 'neutral': 6706})\n",
          "output_type": "stream"
        }
      ],
      "execution_count": null
    },
    {
      "cell_type": "code",
      "source": [
        "# Split the data\n",
        "X_train_2ways, X_test_2ways, y_train_2ways, y_test_2ways = train_test_split(X_resampled_2ways, y_resampled_2ways, test_size=0.2, random_state=42)\n",
        "\n",
        "\n",
        "X_train_2ways = X_train_2ways.ravel()\n",
        "X_test_2ways = X_test_2ways.ravel()\n",
        "\n",
        "\n",
        "from sklearn.feature_extraction.text import TfidfVectorizer\n",
        "\n",
        "# Initialize TfidfVectorizer\n",
        "vectorizer = TfidfVectorizer(max_features=5000, ngram_range=(1, 2))\n",
        "\n",
        "# Vectorize the training data for class_2ways\n",
        "X_train_vec_2ways = vectorizer.fit_transform(X_train_2ways)\n",
        "X_test_vec_2ways = vectorizer.transform(X_test_2ways)\n",
        "\n",
        "\n",
        "\n"
      ],
      "metadata": {
        "execution": {
          "iopub.status.busy": "2024-10-25T21:35:02.522321Z",
          "iopub.execute_input": "2024-10-25T21:35:02.522722Z",
          "iopub.status.idle": "2024-10-25T21:35:10.065740Z",
          "shell.execute_reply.started": "2024-10-25T21:35:02.522683Z",
          "shell.execute_reply": "2024-10-25T21:35:10.064750Z"
        },
        "trusted": true,
        "id": "gKHTVj3tmG9E"
      },
      "outputs": [],
      "execution_count": null
    },
    {
      "cell_type": "markdown",
      "source": [
        "## Random Forest Model"
      ],
      "metadata": {
        "id": "EnB9WCJKmG9E"
      }
    },
    {
      "cell_type": "code",
      "source": [
        "from sklearn.ensemble import RandomForestClassifier\n",
        "\n",
        "# Random Forest with GridSearchCV\n",
        "param_grid_rf = {\n",
        "    'n_estimators': [50, 100, 200, 300],  # Fewer options may help speed up the search\n",
        "    'max_depth': [10, 20, 30, None],  # None allows the tree to expand until all leaves are pure\n",
        "    'min_samples_split': [2, 5, 10],  # 2 is the minimum viable split\n",
        "    'min_samples_leaf': [1, 2, 4],  # Leaf size options\n",
        "    'bootstrap': [True, False]  # Consider adding bootstrap if you want to try with or without sampling\n",
        "}\n",
        "rf = RandomForestClassifier(random_state=42)\n",
        "grid_search_rf = GridSearchCV(rf, param_grid_rf, cv=3, scoring='accuracy', verbose=1)\n",
        "grid_search_rf.fit(X_train_vec_2ways, y_train_2ways)\n",
        "\n",
        "# Best parameters and predictions\n",
        "print(\"Best parameters for Random Forest:\", grid_search_rf.best_params_)\n",
        "y_pred_rf = grid_search_rf.predict(X_test_vec_2ways)\n",
        "\n",
        "# # Create a classification report\n",
        "# report = classification_report(true_labels, predictions, target_names=['Negative', 'Neutral', 'Positive'])\n",
        "# print(\"Classification Report:\\n\", report)\n",
        "\n",
        "# Classification report\n",
        "print(\"Random Forest Classification Report (class_2ways):\")\n",
        "print(classification_report(y_test_2ways, y_pred_rf))\n"
      ],
      "metadata": {
        "execution": {
          "iopub.status.busy": "2024-10-23T02:51:08.321650Z",
          "iopub.execute_input": "2024-10-23T02:51:08.322111Z",
          "iopub.status.idle": "2024-10-23T04:19:43.782807Z",
          "shell.execute_reply.started": "2024-10-23T02:51:08.322068Z",
          "shell.execute_reply": "2024-10-23T04:19:43.781434Z"
        },
        "trusted": true,
        "id": "Axwaau0omG9E",
        "outputId": "52b92a8d-66d7-48b0-a1fb-7cec7256c1b0"
      },
      "outputs": [
        {
          "name": "stdout",
          "text": "Fitting 3 folds for each of 288 candidates, totalling 864 fits\n",
          "output_type": "stream"
        },
        {
          "name": "stderr",
          "text": "[Parallel(n_jobs=1)]: Using backend SequentialBackend with 1 concurrent workers.\n[Parallel(n_jobs=1)]: Done 864 out of 864 | elapsed: 87.8min finished\n",
          "output_type": "stream"
        },
        {
          "name": "stdout",
          "text": "Best parameters for Random Forest: {'bootstrap': False, 'max_depth': None, 'min_samples_leaf': 2, 'min_samples_split': 5, 'n_estimators': 300}\nRandom Forest Classification Report (class_2ways):\n              precision    recall  f1-score   support\n\n    negative       0.99      0.95      0.97      1460\n    positive       0.95      0.99      0.97      1587\n\n    accuracy                           0.97      3047\n   macro avg       0.97      0.97      0.97      3047\nweighted avg       0.97      0.97      0.97      3047\n\n",
          "output_type": "stream"
        }
      ],
      "execution_count": null
    },
    {
      "cell_type": "markdown",
      "source": [
        "## SVM"
      ],
      "metadata": {
        "id": "-bM22McTmG9E"
      }
    },
    {
      "cell_type": "code",
      "source": [
        "# Two classes\n",
        "\n",
        "from sklearn.svm import SVC\n",
        "\n",
        "# SVM with GridSearchCV\n",
        "param_grid_svm = {\n",
        "    'C': [0.1, 1, 10, 100],\n",
        "    'kernel': ['rbf', 'poly', 'linear'],\n",
        "    'gamma': ['scale', 'auto', 0.1, 0.01]\n",
        "}\n",
        "\n",
        "\n",
        "svm = SVC(random_state=42)\n",
        "grid_search_svm = GridSearchCV(svm, param_grid_svm, cv=3, scoring='accuracy', verbose=1)\n",
        "grid_search_svm.fit(X_train_vec_2ways, y_train_2ways)\n",
        "\n",
        "# Best parameters and predictions\n",
        "print(\"Best parameters for SVM:\", grid_search_svm.best_params_)\n",
        "y_pred_svm = grid_search_svm.predict(X_test_vec_2ways)\n",
        "\n",
        "# Classification report\n",
        "print(\"SVM Classification Report (class_2ways):\")\n",
        "print(classification_report(y_test_2ways, y_pred_svm))\n"
      ],
      "metadata": {
        "execution": {
          "iopub.status.busy": "2024-10-23T08:21:27.598004Z",
          "iopub.execute_input": "2024-10-23T08:21:27.598385Z",
          "iopub.status.idle": "2024-10-23T10:02:43.862858Z",
          "shell.execute_reply.started": "2024-10-23T08:21:27.598350Z",
          "shell.execute_reply": "2024-10-23T10:02:43.861487Z"
        },
        "trusted": true,
        "id": "UauH2eINmG9F",
        "outputId": "8ddc27b5-f41f-47d7-9f9f-ebbb4e9dcf97"
      },
      "outputs": [
        {
          "name": "stdout",
          "text": "Fitting 3 folds for each of 48 candidates, totalling 144 fits\n",
          "output_type": "stream"
        },
        {
          "name": "stderr",
          "text": "[Parallel(n_jobs=1)]: Using backend SequentialBackend with 1 concurrent workers.\n[Parallel(n_jobs=1)]: Done 144 out of 144 | elapsed: 98.7min finished\n",
          "output_type": "stream"
        },
        {
          "name": "stdout",
          "text": "Best parameters for SVM: {'C': 10, 'gamma': 'scale', 'kernel': 'rbf'}\nSVM Classification Report (class_2ways):\n              precision    recall  f1-score   support\n\n    negative       0.94      0.97      0.95      1460\n    positive       0.97      0.94      0.95      1587\n\n    accuracy                           0.95      3047\n   macro avg       0.95      0.95      0.95      3047\nweighted avg       0.95      0.95      0.95      3047\n\n",
          "output_type": "stream"
        }
      ],
      "execution_count": null
    },
    {
      "cell_type": "markdown",
      "source": [
        "## XGBoost"
      ],
      "metadata": {
        "id": "M7mGLpp8mG9G"
      }
    },
    {
      "cell_type": "code",
      "source": [
        "# Two classes\n",
        "\n",
        "import xgboost as xgb\n",
        "\n",
        "# XGBoost with GridSearchCV\n",
        "param_grid_xgb = {\n",
        "    'n_estimators': [50, 100, 200, 300],  # Added 50 and 300 for wider exploration\n",
        "    'max_depth': [3, 6, 10, 15],  # Added 15 for deeper trees\n",
        "    'learning_rate': [0.001, 0.01, 0.1, 0.2],  # Added 0.001 for finer tuning\n",
        "    'subsample': [0.5, 0.7, 1.0],  # Proportion of samples to use for training\n",
        "    'colsample_bytree': [0.5, 0.7, 1.0]  # Proportion of features to use for training\n",
        "}\n",
        "xgb_clf = xgb.XGBClassifier(random_state=42)\n",
        "grid_search_xgb = GridSearchCV(xgb_clf, param_grid_xgb, cv=3, scoring='accuracy', verbose=1)\n",
        "grid_search_xgb.fit(X_train_vec_2ways, y_train_2ways)\n",
        "\n",
        "# Best parameters and predictions\n",
        "print(\"Best parameters for XGBoost:\", grid_search_xgb.best_params_)\n",
        "y_pred_xgb = grid_search_xgb.predict(X_test_vec_2ways)\n",
        "\n",
        "# Classification report\n",
        "print(\"XGBoost Classification Report (class_2ways):\")\n",
        "print(classification_report(y_test_2ways, y_pred_xgb))\n"
      ],
      "metadata": {
        "execution": {
          "iopub.status.busy": "2024-10-24T06:13:36.542434Z",
          "iopub.execute_input": "2024-10-24T06:13:36.542870Z",
          "iopub.status.idle": "2024-10-24T14:56:47.334385Z",
          "shell.execute_reply.started": "2024-10-24T06:13:36.542828Z",
          "shell.execute_reply": "2024-10-24T14:56:47.332772Z"
        },
        "trusted": true,
        "id": "eULRmjzTmG9G",
        "outputId": "2c10e131-ab77-42a4-89f9-459b98389d5c"
      },
      "outputs": [
        {
          "name": "stdout",
          "text": "Fitting 3 folds for each of 576 candidates, totalling 1728 fits\n",
          "output_type": "stream"
        },
        {
          "name": "stderr",
          "text": "[Parallel(n_jobs=1)]: Using backend SequentialBackend with 1 concurrent workers.\n[Parallel(n_jobs=1)]: Done 1728 out of 1728 | elapsed: 521.8min finished\n",
          "output_type": "stream"
        },
        {
          "name": "stdout",
          "text": "Best parameters for XGBoost: {'colsample_bytree': 0.7, 'learning_rate': 0.1, 'max_depth': 15, 'n_estimators': 300, 'subsample': 1.0}\nXGBoost Classification Report (class_2ways):\n              precision    recall  f1-score   support\n\n    negative       0.91      0.97      0.94      1460\n    positive       0.97      0.91      0.94      1587\n\n    accuracy                           0.94      3047\n   macro avg       0.94      0.94      0.94      3047\nweighted avg       0.94      0.94      0.94      3047\n\n",
          "output_type": "stream"
        }
      ],
      "execution_count": null
    }
  ]
}